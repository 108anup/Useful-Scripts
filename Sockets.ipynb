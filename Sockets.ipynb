{
 "cells": [
  {
   "cell_type": "code",
   "execution_count": 1,
   "metadata": {
    "collapsed": true
   },
   "outputs": [],
   "source": [
    "import socket"
   ]
  },
  {
   "cell_type": "code",
   "execution_count": 9,
   "metadata": {
    "collapsed": true
   },
   "outputs": [],
   "source": [
    "s = socket.socket(socket.AF_INET, socket.SOCK_STREAM)"
   ]
  },
  {
   "cell_type": "code",
   "execution_count": 10,
   "metadata": {
    "collapsed": true
   },
   "outputs": [],
   "source": [
    "host = \"localhost\"\n",
    "port = 8080"
   ]
  },
  {
   "cell_type": "code",
   "execution_count": 11,
   "metadata": {
    "collapsed": true
   },
   "outputs": [],
   "source": [
    "s.connect((host,port))"
   ]
  },
  {
   "cell_type": "code",
   "execution_count": 12,
   "metadata": {
    "collapsed": false
   },
   "outputs": [
    {
     "data": {
      "text/plain": [
       "35"
      ]
     },
     "execution_count": 12,
     "metadata": {},
     "output_type": "execute_result"
    }
   ],
   "source": [
    "s.send(\"GET / HTTP/1.1\\r\\n\"\n",
    "       \"Host: localhost\\r\\n\"\n",
    "       \"\\r\\n\"\n",
    "      )"
   ]
  },
  {
   "cell_type": "code",
   "execution_count": 13,
   "metadata": {
    "collapsed": false
   },
   "outputs": [
    {
     "data": {
      "text/plain": [
       "'HTTP/1.1 200 OK\\r\\nDate: Tue, 25 Oct 2016 16:18:45 GMT\\r\\nServer: Apache/2.2.16 (Debian)\\r\\nX-Powered-By: PHP/5.3.3-7+squeeze15\\r\\nX-XSS-Protection: 0\\r\\nVary: Accept-Encoding\\r\\nContent-Length: 6033\\r\\nContent-Type: text/html\\r\\n\\r\\n<!DOCTYPE html>\\n<html lang=\"en\">\\n  <head>\\n    <meta charset=\"utf-8\">\\n    <title>PentesterLab &raquo; Web for Pentester</title>\\n    <meta name=\"viewport\" content=\"width=device-width, initial-scale=1.0\">\\n    <meta name=\"description\" content=\"Web For Pentester\">\\n    <meta name=\"author\" content=\"Louis Nyffenegger (louis@pentesterlab.com)\">\\n\\n    <!-- Le styles -->\\n    <link href=\"/css/bootstrap.css\" rel=\"stylesheet\">\\n\\n    <style type=\"text/css\">\\n      body {\\n        padding-top: 60px;\\n        padding-bottom: 40px;\\n      }\\n    </style>\\n    <link href=\"/css/bootstrap-responsive.css\" rel=\"stylesheet\">\\n\\n  </head>\\n\\n  <body>\\n\\n    <div class=\"navbar navbar-inverse navbar-fixed-top\">\\n      <div class=\"navbar-inner\">\\n        <div class=\"container\">\\n          <a class=\"btn btn-navbar\" data-toggle=\"collapse\" data-target=\".nav-collapse\">\\n            <span class=\"icon-bar\"></span>\\n            <span class=\"icon-bar\"></span>\\n            <span class=\"icon-bar\"></span>\\n          </a>\\n          <a class=\"brand\" href=\"https://pentesterlab.com/\">PentesterLab.com</a>\\n          <div class=\"nav-collapse collapse\">\\n            <ul class=\"nav\">\\n              <li class=\"active\"><a href=\"/\">Home</a></li>\\n            </ul>\\n          </div><!--/.nav-collapse -->\\n        </div>\\n      </div>\\n    </div>\\n\\n    <div class=\"container\">\\n\\n\\n\\n\\n      <!-- Main hero unit for a primary marketing message or call to action -->\\n      <div class=\"hero-unit\">\\n        <h1>Web For Pentester</h1>\\n        <p>This exercise is a set of the most common web vulnerabilities</p>\\n<a href=\"https://twitter.com/PentesterLab\" class=\"twitter-follow-button\" data-show-count=\"true\" data-lang=\"en\" data-size=\"large\">Follow @PentesterLab</a>\\n<script>!function(d,s,id){var js,fjs=d.getElementsByTagName(s)[0];if(!d.getElementById(id)){js=d.createElement(s);js.id=id;js.src=\"//platform.twitter.com/widgets.js\";fjs.parentNode.insertBefore(js,fjs);}}(document,\"script\",\"twitter-wjs\");</script>\\n      </div>\\n\\n      <!-- Example row of columns -->\\n      <div class=\"row\">\\n        <div class=\"span4\">\\n          <h2>XSS</h2>\\n          <ul>\\n            <li><a href=\"xss/example1.php?name=hacker\">Example 1</a></li>\\n          \\t<li><a href=\"xss/example2.php?name=hacker\">Example 2</a></li>\\n          \\t<li><a href=\"xss/example3.php?name=hacker\">Example 3</a></li>\\n          \\t<li><a href=\"xss/example4.php?name=hacker\">Example 4</a></li>\\n          \\t<li><a href=\"xss/example5.php?name=hacker\">Example 5</a></li>\\n          \\t<li><a href=\"xss/example6.php?name=hacker\">Example 6</a></li>\\n          \\t<li><a href=\"xss/example7.php?name=hacker\">Example 7</a></li>\\n          \\t<li><a href=\"xss/example8.php\">Example 8</a></li>\\n          \\t<li><a href=\"xss/example9.php#hacker\">Example 9</a></li>\\n          </ul>\\n\\n\\n\\n        </div>\\n\\n\\n        <div class=\"span4\">\\n          <h2>SQL injections</h2>\\n            <ul>\\n            \\t<li><a href=\"sqli/example1.php?name=root\">Example 1</a></li>\\n            \\t<li><a href=\"sqli/example2.php?name=root\">Example 2</a></li>\\n            \\t<li><a href=\"sqli/example3.php?name=root\">Example 3</a></li>\\n            \\t<li><a href=\"sqli/example4.php?id=2\">Example 4</a></li>\\n            \\t<li><a href=\"sqli/example5.php?id=2\">Example 5</a></li>\\n            \\t<li><a href=\"sqli/example6.php?id=2\">Example 6</a></li>\\n            \\t<li><a href=\"sqli/example7.php?id=2\">Example 7</a></li>\\n            \\t<li><a href=\"sqli/example8.php?order=name\">Example 8</a></li>\\n            \\t<li><a href=\"sqli/example9.php?order=name\">Example 9</a></li>\\n\\t          </ul>\\t\\n       </div>\\n        <div class=\"span4\">\\n          <h2>Directory traversal</h2>\\n            <ul>\\n            \\t<li>Example 1: <img src=\"dirtrav/example1.php?file=hacker.png\" width=\"20\" /></li>\\n            \\t<li>Example 2: <img src=\"dirtrav/example2.php?file=/var/www/files/hacker.png\" width=\"20\"  /></li>\\n            \\t<li>Example 3: <img src=\"dirtrav/example3.php?file=hacker\" width=\"20\"  /></li>\\n            </ul>\\n\\n\\n\\n        </div>\\n\\n      </div>\\n\\n\\n      <div class=\"row\">\\n        <div class=\"span4\">\\n          <h2>File Include</h2>\\n\\n          <ul>\\n          \\t<li><a href=\"fileincl/example1.php?page=intro.php\">Example 1</a></li>\\n          \\t<li><a href=\"fileincl/example2.php?page=intro\">Example 2</a></li>\\n          </ul>\\n\\n        </div>\\n\\n\\n        <div class=\"span4\">\\n          <h2>Code injection</h2>\\n          <ul>\\n          \\t<li><a href=\"codeexec/example1.php?name=hacker\">Example 1</a></li>\\n          \\t<li><a href=\"codeexec/example2.php?order=id\">Example 2</a></li>\\n          \\t<li><a href=\"codeexec/example3.php?new=hacker&pattern=/lamer/&base=Hello%20lamer\">Example 3</a></li>\\n          \\t<li><a href=\"codeexec/example4.php?name=hacker\">Example 4</a></li>\\n          </ul>\\n       </div>\\n\\n        <div class=\"span4\">\\n          <h2>Commands injection</h2>\\n          <ul>\\n\\t          <li><a href=\"commandexec/example1.php?ip=127.0.0.1\">Example 1</a></li>\\n\\t          <li><a href=\"commandexec/example2.php?ip=127.0.0.1\">Example 2</a></li>\\n\\t          <li><a href=\"commandexec/example3.php?ip=127.0.0.1\">Example 3</a></li>\\n          </ul>\\n        </div>\\n      </div>\\n\\n\\n      <div class=\"row\">\\n        <div class=\"span4\">\\n          <h2>LDAP attacks</h2>\\n\\n          <ul>\\n          \\t<li><a href=\"ldap/example1.php?username=hacker&password=hacker\">Example 1</a></li>\\n          \\t<li><a href=\"ldap/example2.php?name=hacker&password=hacker\">Example 2</a></li>\\n          </ul>\\n\\n        </div>\\n\\n\\n        <div class=\"span4\">\\n          <h2>File Upload</h2>\\n          <ul>\\n          \\t<li><a href=\"upload/example1.php\">Example 1</a></li>\\n          \\t<li><a href=\"upload/example2.php\">Example 2</a></li>\\n          </ul>\\n       </div>\\n\\n        <div class=\"span4\">\\n          <h2>XML attacks</h2>\\n          <ul>\\n\\t          <li><a href=\"xml/example1.php?xml=<test>hacker</test>\">Example 1</a></li>\\n\\t          <li><a href=\"xml/example2.php?name=hacker\">Example 2</a></li>\\n          </ul>\\n        </div>\\n      </div>\\n\\n\\n\\n\\n\\n\\n\\n\\n      <footer>\\n        <p>&copy; PentesterLab 2013</p>\\n      </footer>\\n\\n    </div> <!-- /container -->\\n\\n\\n  </body>\\n</html>\\n\\n\\n'"
      ]
     },
     "execution_count": 13,
     "metadata": {},
     "output_type": "execute_result"
    }
   ],
   "source": [
    "s.recv(1000000)"
   ]
  },
  {
   "cell_type": "code",
   "execution_count": 18,
   "metadata": {
    "collapsed": true
   },
   "outputs": [],
   "source": [
    "s_proxy = socket.socket(socket.AF_INET, socket.SOCK_STREAM)"
   ]
  },
  {
   "cell_type": "code",
   "execution_count": 19,
   "metadata": {
    "collapsed": true
   },
   "outputs": [],
   "source": [
    "proxy_host = \"<my server>\"\n",
    "proxy_port = 3128"
   ]
  },
  {
   "cell_type": "code",
   "execution_count": 20,
   "metadata": {
    "collapsed": true
   },
   "outputs": [],
   "source": [
    "s_proxy.connect((proxy_host,proxy_port))"
   ]
  },
  {
   "cell_type": "code",
   "execution_count": 23,
   "metadata": {
    "collapsed": false
   },
   "outputs": [
    {
     "data": {
      "text/plain": [
       "57"
      ]
     },
     "execution_count": 23,
     "metadata": {},
     "output_type": "execute_result"
    }
   ],
   "source": [
    "s_proxy.send(b'CONNECT google.com:443 HTTP/1.1\\r\\nHost: google.com:443\\r\\n\\r\\n')"
   ]
  },
  {
   "cell_type": "code",
   "execution_count": 24,
   "metadata": {
    "collapsed": false
   },
   "outputs": [
    {
     "data": {
      "text/plain": [
       "'HTTP/1.1 200 Connection established\\r\\n\\r\\n'"
      ]
     },
     "execution_count": 24,
     "metadata": {},
     "output_type": "execute_result"
    }
   ],
   "source": [
    "s_proxy.recv(1000000)"
   ]
  },
  {
   "cell_type": "code",
   "execution_count": null,
   "metadata": {
    "collapsed": true
   },
   "outputs": [],
   "source": []
  }
 ],
 "metadata": {
  "kernelspec": {
   "display_name": "Python 2",
   "language": "python",
   "name": "python2"
  },
  "language_info": {
   "codemirror_mode": {
    "name": "ipython",
    "version": 2
   },
   "file_extension": ".py",
   "mimetype": "text/x-python",
   "name": "python",
   "nbconvert_exporter": "python",
   "pygments_lexer": "ipython2",
   "version": "2.7.11"
  }
 },
 "nbformat": 4,
 "nbformat_minor": 0
}
